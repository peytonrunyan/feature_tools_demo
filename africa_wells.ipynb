{
 "cells": [
  {
   "cell_type": "code",
   "execution_count": null,
   "metadata": {},
   "outputs": [],
   "source": [
    "import pandas as pd\n",
    "import numpy as np "
   ]
  },
  {
   "cell_type": "markdown",
   "metadata": {},
   "source": [
    "# Cleaning functions"
   ]
  },
  {
   "cell_type": "code",
   "execution_count": 35,
   "metadata": {},
   "outputs": [],
   "source": [
    "#Fix dates\n",
    "def fix_dates(x):\n",
    "\n",
    "    #Import\n",
    "    import datetime\n",
    "    now = datetime.datetime.today()\n",
    "\n",
    "    #Turn string to datetime\n",
    "    x.date_recorded = pd.to_datetime(x['date_recorded'],format = '%Y-%m-%d')\n",
    "\n",
    "    #Turn date into how long ago it happened\n",
    "    x['age'] = x['date_recorded'] - now\n",
    "\n",
    "    #sklearn doesn't like time. Turn it into an int\n",
    "    x['age'] = x['age'].dt.days\n",
    "    \n",
    "    return x\n",
    "\n",
    "#remove the columns that we don't want\n",
    "def drop_stuff(x):\n",
    "    x = x.drop(to_drop, axis=1)\n",
    "\n",
    "    return x\n",
    "\n",
    "#label NaNs\n",
    "def label_nans(x):\n",
    "    x.funder.fillna('unknown', inplace=True)\n",
    "    x.permit.fillna('unknown', inplace=True)\n",
    "    x.installer.fillna('unknown', inplace=True)\n",
    "    x.subvillage.fillna('unknown', inplace=True)\n",
    "    x.scheme_name.fillna('unknown', inplace=True)\n",
    "    x.public_meeting.fillna('unknown', inplace=True)\n",
    "    x.scheme_management.fillna('unknown', inplace=True)\n",
    "\n",
    "    return x\n",
    "\n",
    "#Clean Data\n",
    "def clean_data(x):\n",
    "    x = label_nans(x)\n",
    "    x = fix_dates(x)\n",
    "    x = drop_stuff(x)\n",
    "    \n",
    "    return x"
   ]
  },
  {
   "cell_type": "markdown",
   "metadata": {},
   "source": [
    "# Utility Lists"
   ]
  },
  {
   "cell_type": "code",
   "execution_count": 195,
   "metadata": {},
   "outputs": [],
   "source": [
    "#list of categorical variables\n",
    "categoricals = ['basin', 'region', 'district_code',\n",
    "           'lga', 'public_meeting', 'scheme_management', 'permit',\n",
    "           'extraction_type', 'extraction_type_group', 'extraction_type_class', 'management',\n",
    "           'management_group', 'payment_type', 'water_quality', 'quality_group', 'quantity',\n",
    "           'source', 'source_type', 'source_class', 'waterpoint_type', 'waterpoint_type_group']\n",
    "\n",
    "#drop categories that are excessive, or drop redundant\n",
    "to_drop = []"
   ]
  },
  {
   "cell_type": "markdown",
   "metadata": {},
   "source": [
    "# Begin Modeling"
   ]
  },
  {
   "cell_type": "code",
   "execution_count": 192,
   "metadata": {},
   "outputs": [],
   "source": [
    "#load data\n",
    "pd.set_option('display.max_columns', 500)\n",
    "\n",
    "X = pd.read_csv('train_features.csv')\n",
    "\n",
    "y = pd.read_csv('train_labels.csv')\n",
    "\n",
    "#status_group is the actualy y target\n",
    "y = y.status_group\n",
    "\n",
    "#Data Prep\n",
    "#X_clean = clean_data(X)\n"
   ]
  },
  {
   "cell_type": "code",
   "execution_count": 193,
   "metadata": {},
   "outputs": [
    {
     "data": {
      "text/html": [
       "<div>\n",
       "<style scoped>\n",
       "    .dataframe tbody tr th:only-of-type {\n",
       "        vertical-align: middle;\n",
       "    }\n",
       "\n",
       "    .dataframe tbody tr th {\n",
       "        vertical-align: top;\n",
       "    }\n",
       "\n",
       "    .dataframe thead th {\n",
       "        text-align: right;\n",
       "    }\n",
       "</style>\n",
       "<table border=\"1\" class=\"dataframe\">\n",
       "  <thead>\n",
       "    <tr style=\"text-align: right;\">\n",
       "      <th></th>\n",
       "      <th>id</th>\n",
       "      <th>amount_tsh</th>\n",
       "      <th>gps_height</th>\n",
       "      <th>longitude</th>\n",
       "      <th>latitude</th>\n",
       "      <th>num_private</th>\n",
       "      <th>region_code</th>\n",
       "      <th>district_code</th>\n",
       "      <th>population</th>\n",
       "      <th>construction_year</th>\n",
       "    </tr>\n",
       "  </thead>\n",
       "  <tbody>\n",
       "    <tr>\n",
       "      <th>id</th>\n",
       "      <td>1.000000</td>\n",
       "      <td>-0.005321</td>\n",
       "      <td>-0.004692</td>\n",
       "      <td>-0.001348</td>\n",
       "      <td>0.001718</td>\n",
       "      <td>-0.002629</td>\n",
       "      <td>-0.003028</td>\n",
       "      <td>-0.003044</td>\n",
       "      <td>-0.002813</td>\n",
       "      <td>-0.002082</td>\n",
       "    </tr>\n",
       "    <tr>\n",
       "      <th>amount_tsh</th>\n",
       "      <td>-0.005321</td>\n",
       "      <td>1.000000</td>\n",
       "      <td>0.076650</td>\n",
       "      <td>0.022134</td>\n",
       "      <td>-0.052670</td>\n",
       "      <td>0.002944</td>\n",
       "      <td>-0.026813</td>\n",
       "      <td>-0.023599</td>\n",
       "      <td>0.016288</td>\n",
       "      <td>0.067915</td>\n",
       "    </tr>\n",
       "    <tr>\n",
       "      <th>gps_height</th>\n",
       "      <td>-0.004692</td>\n",
       "      <td>0.076650</td>\n",
       "      <td>1.000000</td>\n",
       "      <td>0.149155</td>\n",
       "      <td>-0.035751</td>\n",
       "      <td>0.007237</td>\n",
       "      <td>-0.183521</td>\n",
       "      <td>-0.171233</td>\n",
       "      <td>0.135003</td>\n",
       "      <td>0.658727</td>\n",
       "    </tr>\n",
       "    <tr>\n",
       "      <th>longitude</th>\n",
       "      <td>-0.001348</td>\n",
       "      <td>0.022134</td>\n",
       "      <td>0.149155</td>\n",
       "      <td>1.000000</td>\n",
       "      <td>-0.425802</td>\n",
       "      <td>0.023873</td>\n",
       "      <td>0.034197</td>\n",
       "      <td>0.151398</td>\n",
       "      <td>0.086590</td>\n",
       "      <td>0.396732</td>\n",
       "    </tr>\n",
       "    <tr>\n",
       "      <th>latitude</th>\n",
       "      <td>0.001718</td>\n",
       "      <td>-0.052670</td>\n",
       "      <td>-0.035751</td>\n",
       "      <td>-0.425802</td>\n",
       "      <td>1.000000</td>\n",
       "      <td>0.006837</td>\n",
       "      <td>-0.221018</td>\n",
       "      <td>-0.201020</td>\n",
       "      <td>-0.022152</td>\n",
       "      <td>-0.245278</td>\n",
       "    </tr>\n",
       "    <tr>\n",
       "      <th>num_private</th>\n",
       "      <td>-0.002629</td>\n",
       "      <td>0.002944</td>\n",
       "      <td>0.007237</td>\n",
       "      <td>0.023873</td>\n",
       "      <td>0.006837</td>\n",
       "      <td>1.000000</td>\n",
       "      <td>-0.020377</td>\n",
       "      <td>-0.004478</td>\n",
       "      <td>0.003818</td>\n",
       "      <td>0.026056</td>\n",
       "    </tr>\n",
       "    <tr>\n",
       "      <th>region_code</th>\n",
       "      <td>-0.003028</td>\n",
       "      <td>-0.026813</td>\n",
       "      <td>-0.183521</td>\n",
       "      <td>0.034197</td>\n",
       "      <td>-0.221018</td>\n",
       "      <td>-0.020377</td>\n",
       "      <td>1.000000</td>\n",
       "      <td>0.678602</td>\n",
       "      <td>0.094088</td>\n",
       "      <td>0.031724</td>\n",
       "    </tr>\n",
       "    <tr>\n",
       "      <th>district_code</th>\n",
       "      <td>-0.003044</td>\n",
       "      <td>-0.023599</td>\n",
       "      <td>-0.171233</td>\n",
       "      <td>0.151398</td>\n",
       "      <td>-0.201020</td>\n",
       "      <td>-0.004478</td>\n",
       "      <td>0.678602</td>\n",
       "      <td>1.000000</td>\n",
       "      <td>0.061831</td>\n",
       "      <td>0.048315</td>\n",
       "    </tr>\n",
       "    <tr>\n",
       "      <th>population</th>\n",
       "      <td>-0.002813</td>\n",
       "      <td>0.016288</td>\n",
       "      <td>0.135003</td>\n",
       "      <td>0.086590</td>\n",
       "      <td>-0.022152</td>\n",
       "      <td>0.003818</td>\n",
       "      <td>0.094088</td>\n",
       "      <td>0.061831</td>\n",
       "      <td>1.000000</td>\n",
       "      <td>0.260910</td>\n",
       "    </tr>\n",
       "    <tr>\n",
       "      <th>construction_year</th>\n",
       "      <td>-0.002082</td>\n",
       "      <td>0.067915</td>\n",
       "      <td>0.658727</td>\n",
       "      <td>0.396732</td>\n",
       "      <td>-0.245278</td>\n",
       "      <td>0.026056</td>\n",
       "      <td>0.031724</td>\n",
       "      <td>0.048315</td>\n",
       "      <td>0.260910</td>\n",
       "      <td>1.000000</td>\n",
       "    </tr>\n",
       "  </tbody>\n",
       "</table>\n",
       "</div>"
      ],
      "text/plain": [
       "                         id  amount_tsh  gps_height  longitude  latitude  \\\n",
       "id                 1.000000   -0.005321   -0.004692  -0.001348  0.001718   \n",
       "amount_tsh        -0.005321    1.000000    0.076650   0.022134 -0.052670   \n",
       "gps_height        -0.004692    0.076650    1.000000   0.149155 -0.035751   \n",
       "longitude         -0.001348    0.022134    0.149155   1.000000 -0.425802   \n",
       "latitude           0.001718   -0.052670   -0.035751  -0.425802  1.000000   \n",
       "num_private       -0.002629    0.002944    0.007237   0.023873  0.006837   \n",
       "region_code       -0.003028   -0.026813   -0.183521   0.034197 -0.221018   \n",
       "district_code     -0.003044   -0.023599   -0.171233   0.151398 -0.201020   \n",
       "population        -0.002813    0.016288    0.135003   0.086590 -0.022152   \n",
       "construction_year -0.002082    0.067915    0.658727   0.396732 -0.245278   \n",
       "\n",
       "                   num_private  region_code  district_code  population  \\\n",
       "id                   -0.002629    -0.003028      -0.003044   -0.002813   \n",
       "amount_tsh            0.002944    -0.026813      -0.023599    0.016288   \n",
       "gps_height            0.007237    -0.183521      -0.171233    0.135003   \n",
       "longitude             0.023873     0.034197       0.151398    0.086590   \n",
       "latitude              0.006837    -0.221018      -0.201020   -0.022152   \n",
       "num_private           1.000000    -0.020377      -0.004478    0.003818   \n",
       "region_code          -0.020377     1.000000       0.678602    0.094088   \n",
       "district_code        -0.004478     0.678602       1.000000    0.061831   \n",
       "population            0.003818     0.094088       0.061831    1.000000   \n",
       "construction_year     0.026056     0.031724       0.048315    0.260910   \n",
       "\n",
       "                   construction_year  \n",
       "id                         -0.002082  \n",
       "amount_tsh                  0.067915  \n",
       "gps_height                  0.658727  \n",
       "longitude                   0.396732  \n",
       "latitude                   -0.245278  \n",
       "num_private                 0.026056  \n",
       "region_code                 0.031724  \n",
       "district_code               0.048315  \n",
       "population                  0.260910  \n",
       "construction_year           1.000000  "
      ]
     },
     "execution_count": 193,
     "metadata": {},
     "output_type": "execute_result"
    }
   ],
   "source": [
    "X.corr()"
   ]
  },
  {
   "cell_type": "code",
   "execution_count": 38,
   "metadata": {},
   "outputs": [],
   "source": [
    "#Import Pipeline and associated tools\n",
    "import category_encoders as ce\n",
    "from sklearn.pipeline import make_pipeline\n",
    "from sklearn_pandas import DataFrameMapper\n",
    "from sklearn.linear_model import LogisticRegression\n",
    "from sklearn.ensemble import RandomForestClassifier\n",
    "from sklearn.preprocessing import StandardScaler\n",
    "from sklearn.metrics import accuracy_score"
   ]
  },
  {
   "cell_type": "code",
   "execution_count": 194,
   "metadata": {},
   "outputs": [
    {
     "name": "stdout",
     "output_type": "stream",
     "text": [
      "id   59400\n",
      "amount_tsh   98\n",
      "date_recorded   356\n",
      "funder   1897\n",
      "gps_height   2428\n",
      "installer   2145\n",
      "longitude   57516\n",
      "latitude   57517\n",
      "wpt_name   37400\n",
      "num_private   65\n",
      "basin   9\n",
      "subvillage   19287\n",
      "region   21\n",
      "region_code   27\n",
      "district_code   20\n",
      "lga   125\n",
      "ward   2092\n",
      "population   1049\n",
      "public_meeting   2\n",
      "recorded_by   1\n",
      "scheme_management   12\n",
      "scheme_name   2696\n",
      "permit   2\n",
      "construction_year   55\n",
      "extraction_type   18\n",
      "extraction_type_group   13\n",
      "extraction_type_class   7\n",
      "management   12\n",
      "management_group   5\n",
      "payment   7\n",
      "payment_type   7\n",
      "water_quality   8\n",
      "quality_group   6\n",
      "quantity   5\n",
      "quantity_group   5\n",
      "source   10\n",
      "source_type   7\n",
      "source_class   3\n",
      "waterpoint_type   7\n",
      "waterpoint_type_group   6\n"
     ]
    }
   ],
   "source": [
    "for i in list(X):\n",
    "    print(i, ' ', X[i].nunique())"
   ]
  },
  {
   "cell_type": "code",
   "execution_count": 197,
   "metadata": {},
   "outputs": [],
   "source": [
    "X_clean = clean_data(X)[['id','waterpoint_type_group','waterpoint_type','source_class','source_type',\n",
    "                         'source','quantity','quality_group','water_quality','payment_type',\n",
    "                        'management_group','management','extraction_type_class','extraction_type_group',\n",
    "                        'extraction_type','construction_year','permit','scheme_management','public_meeting',\n",
    "                        'population','lga','district_code','region_code','region','basin','num_private','date_recorded','amount_tsh']]\n",
    "\n",
    "from sklearn.preprocessing import LabelEncoder\n",
    "encoder = LabelEncoder()\n",
    "\n",
    "X_clean['date_recorded'] = encoder.fit_transform(X_clean['date_recorded'])\n"
   ]
  },
  {
   "cell_type": "code",
   "execution_count": 106,
   "metadata": {},
   "outputs": [
    {
     "data": {
      "text/html": [
       "<div>\n",
       "<style scoped>\n",
       "    .dataframe tbody tr th:only-of-type {\n",
       "        vertical-align: middle;\n",
       "    }\n",
       "\n",
       "    .dataframe tbody tr th {\n",
       "        vertical-align: top;\n",
       "    }\n",
       "\n",
       "    .dataframe thead th {\n",
       "        text-align: right;\n",
       "    }\n",
       "</style>\n",
       "<table border=\"1\" class=\"dataframe\">\n",
       "  <thead>\n",
       "    <tr style=\"text-align: right;\">\n",
       "      <th></th>\n",
       "      <th>id</th>\n",
       "      <th>waterpoint_type_group</th>\n",
       "      <th>waterpoint_type</th>\n",
       "      <th>source_class</th>\n",
       "      <th>source_type</th>\n",
       "      <th>source</th>\n",
       "      <th>quantity</th>\n",
       "      <th>quality_group</th>\n",
       "      <th>water_quality</th>\n",
       "      <th>payment_type</th>\n",
       "      <th>management_group</th>\n",
       "      <th>management</th>\n",
       "      <th>extraction_type_class</th>\n",
       "      <th>extraction_type_group</th>\n",
       "      <th>extraction_type</th>\n",
       "      <th>construction_year</th>\n",
       "      <th>permit</th>\n",
       "      <th>scheme_management</th>\n",
       "      <th>public_meeting</th>\n",
       "      <th>population</th>\n",
       "      <th>lga</th>\n",
       "      <th>region</th>\n",
       "      <th>basin</th>\n",
       "      <th>num_private</th>\n",
       "      <th>date_recorded</th>\n",
       "      <th>amount_tsh</th>\n",
       "    </tr>\n",
       "  </thead>\n",
       "  <tbody>\n",
       "    <tr>\n",
       "      <th>0</th>\n",
       "      <td>69572</td>\n",
       "      <td>communal standpipe</td>\n",
       "      <td>communal standpipe</td>\n",
       "      <td>groundwater</td>\n",
       "      <td>spring</td>\n",
       "      <td>spring</td>\n",
       "      <td>enough</td>\n",
       "      <td>good</td>\n",
       "      <td>soft</td>\n",
       "      <td>annually</td>\n",
       "      <td>user-group</td>\n",
       "      <td>vwc</td>\n",
       "      <td>gravity</td>\n",
       "      <td>gravity</td>\n",
       "      <td>gravity</td>\n",
       "      <td>1999</td>\n",
       "      <td>False</td>\n",
       "      <td>VWC</td>\n",
       "      <td>True</td>\n",
       "      <td>109</td>\n",
       "      <td>Ludewa</td>\n",
       "      <td>Iringa</td>\n",
       "      <td>Lake Nyasa</td>\n",
       "      <td>0</td>\n",
       "      <td>47</td>\n",
       "      <td>6000.0</td>\n",
       "    </tr>\n",
       "    <tr>\n",
       "      <th>1</th>\n",
       "      <td>8776</td>\n",
       "      <td>communal standpipe</td>\n",
       "      <td>communal standpipe</td>\n",
       "      <td>surface</td>\n",
       "      <td>rainwater harvesting</td>\n",
       "      <td>rainwater harvesting</td>\n",
       "      <td>insufficient</td>\n",
       "      <td>good</td>\n",
       "      <td>soft</td>\n",
       "      <td>never pay</td>\n",
       "      <td>user-group</td>\n",
       "      <td>wug</td>\n",
       "      <td>gravity</td>\n",
       "      <td>gravity</td>\n",
       "      <td>gravity</td>\n",
       "      <td>2010</td>\n",
       "      <td>True</td>\n",
       "      <td>Other</td>\n",
       "      <td>unknown</td>\n",
       "      <td>280</td>\n",
       "      <td>Serengeti</td>\n",
       "      <td>Mara</td>\n",
       "      <td>Lake Victoria</td>\n",
       "      <td>0</td>\n",
       "      <td>309</td>\n",
       "      <td>0.0</td>\n",
       "    </tr>\n",
       "    <tr>\n",
       "      <th>2</th>\n",
       "      <td>34310</td>\n",
       "      <td>communal standpipe</td>\n",
       "      <td>communal standpipe multiple</td>\n",
       "      <td>surface</td>\n",
       "      <td>dam</td>\n",
       "      <td>dam</td>\n",
       "      <td>enough</td>\n",
       "      <td>good</td>\n",
       "      <td>soft</td>\n",
       "      <td>per bucket</td>\n",
       "      <td>user-group</td>\n",
       "      <td>vwc</td>\n",
       "      <td>gravity</td>\n",
       "      <td>gravity</td>\n",
       "      <td>gravity</td>\n",
       "      <td>2009</td>\n",
       "      <td>True</td>\n",
       "      <td>VWC</td>\n",
       "      <td>True</td>\n",
       "      <td>250</td>\n",
       "      <td>Simanjiro</td>\n",
       "      <td>Manyara</td>\n",
       "      <td>Pangani</td>\n",
       "      <td>0</td>\n",
       "      <td>300</td>\n",
       "      <td>25.0</td>\n",
       "    </tr>\n",
       "    <tr>\n",
       "      <th>3</th>\n",
       "      <td>67743</td>\n",
       "      <td>communal standpipe</td>\n",
       "      <td>communal standpipe multiple</td>\n",
       "      <td>groundwater</td>\n",
       "      <td>borehole</td>\n",
       "      <td>machine dbh</td>\n",
       "      <td>dry</td>\n",
       "      <td>good</td>\n",
       "      <td>soft</td>\n",
       "      <td>never pay</td>\n",
       "      <td>user-group</td>\n",
       "      <td>vwc</td>\n",
       "      <td>submersible</td>\n",
       "      <td>submersible</td>\n",
       "      <td>submersible</td>\n",
       "      <td>1986</td>\n",
       "      <td>True</td>\n",
       "      <td>VWC</td>\n",
       "      <td>True</td>\n",
       "      <td>58</td>\n",
       "      <td>Nanyumbu</td>\n",
       "      <td>Mtwara</td>\n",
       "      <td>Ruvuma / Southern Coast</td>\n",
       "      <td>0</td>\n",
       "      <td>272</td>\n",
       "      <td>0.0</td>\n",
       "    </tr>\n",
       "    <tr>\n",
       "      <th>4</th>\n",
       "      <td>19728</td>\n",
       "      <td>communal standpipe</td>\n",
       "      <td>communal standpipe</td>\n",
       "      <td>surface</td>\n",
       "      <td>rainwater harvesting</td>\n",
       "      <td>rainwater harvesting</td>\n",
       "      <td>seasonal</td>\n",
       "      <td>good</td>\n",
       "      <td>soft</td>\n",
       "      <td>never pay</td>\n",
       "      <td>other</td>\n",
       "      <td>other</td>\n",
       "      <td>gravity</td>\n",
       "      <td>gravity</td>\n",
       "      <td>gravity</td>\n",
       "      <td>0</td>\n",
       "      <td>True</td>\n",
       "      <td>unknown</td>\n",
       "      <td>True</td>\n",
       "      <td>0</td>\n",
       "      <td>Karagwe</td>\n",
       "      <td>Kagera</td>\n",
       "      <td>Lake Victoria</td>\n",
       "      <td>0</td>\n",
       "      <td>104</td>\n",
       "      <td>0.0</td>\n",
       "    </tr>\n",
       "  </tbody>\n",
       "</table>\n",
       "</div>"
      ],
      "text/plain": [
       "      id waterpoint_type_group              waterpoint_type source_class  \\\n",
       "0  69572    communal standpipe           communal standpipe  groundwater   \n",
       "1   8776    communal standpipe           communal standpipe      surface   \n",
       "2  34310    communal standpipe  communal standpipe multiple      surface   \n",
       "3  67743    communal standpipe  communal standpipe multiple  groundwater   \n",
       "4  19728    communal standpipe           communal standpipe      surface   \n",
       "\n",
       "            source_type                source      quantity quality_group  \\\n",
       "0                spring                spring        enough          good   \n",
       "1  rainwater harvesting  rainwater harvesting  insufficient          good   \n",
       "2                   dam                   dam        enough          good   \n",
       "3              borehole           machine dbh           dry          good   \n",
       "4  rainwater harvesting  rainwater harvesting      seasonal          good   \n",
       "\n",
       "  water_quality payment_type management_group management  \\\n",
       "0          soft     annually       user-group        vwc   \n",
       "1          soft    never pay       user-group        wug   \n",
       "2          soft   per bucket       user-group        vwc   \n",
       "3          soft    never pay       user-group        vwc   \n",
       "4          soft    never pay            other      other   \n",
       "\n",
       "  extraction_type_class extraction_type_group extraction_type  \\\n",
       "0               gravity               gravity         gravity   \n",
       "1               gravity               gravity         gravity   \n",
       "2               gravity               gravity         gravity   \n",
       "3           submersible           submersible     submersible   \n",
       "4               gravity               gravity         gravity   \n",
       "\n",
       "   construction_year permit scheme_management public_meeting  population  \\\n",
       "0               1999  False               VWC           True         109   \n",
       "1               2010   True             Other        unknown         280   \n",
       "2               2009   True               VWC           True         250   \n",
       "3               1986   True               VWC           True          58   \n",
       "4                  0   True           unknown           True           0   \n",
       "\n",
       "         lga   region                    basin  num_private  date_recorded  \\\n",
       "0     Ludewa   Iringa               Lake Nyasa            0             47   \n",
       "1  Serengeti     Mara            Lake Victoria            0            309   \n",
       "2  Simanjiro  Manyara                  Pangani            0            300   \n",
       "3   Nanyumbu   Mtwara  Ruvuma / Southern Coast            0            272   \n",
       "4    Karagwe   Kagera            Lake Victoria            0            104   \n",
       "\n",
       "   amount_tsh  \n",
       "0      6000.0  \n",
       "1         0.0  \n",
       "2        25.0  \n",
       "3         0.0  \n",
       "4         0.0  "
      ]
     },
     "execution_count": 106,
     "metadata": {},
     "output_type": "execute_result"
    }
   ],
   "source": [
    "X_clean.head()"
   ]
  },
  {
   "cell_type": "code",
   "execution_count": 198,
   "metadata": {},
   "outputs": [],
   "source": [
    "#Split Data\n",
    "from sklearn.model_selection import train_test_split\n",
    "X_train, X_valid, y_train, y_valid = train_test_split(X_clean.iloc[:,1:],y)"
   ]
  },
  {
   "cell_type": "code",
   "execution_count": 199,
   "metadata": {},
   "outputs": [
    {
     "name": "stderr",
     "output_type": "stream",
     "text": [
      "/anaconda3/lib/python3.7/site-packages/sklearn/preprocessing/data.py:625: DataConversionWarning: Data with input dtype int64, float64 were all converted to float64 by StandardScaler.\n",
      "  return self.partial_fit(X, y)\n",
      "/anaconda3/lib/python3.7/site-packages/sklearn/base.py:465: DataConversionWarning: Data with input dtype int64, float64 were all converted to float64 by StandardScaler.\n",
      "  return self.fit(X, y, **fit_params).transform(X)\n",
      "/anaconda3/lib/python3.7/site-packages/sklearn/ensemble/forest.py:246: FutureWarning: The default value of n_estimators will change from 10 in version 0.20 to 100 in 0.22.\n",
      "  \"10 in version 0.20 to 100 in 0.22.\", FutureWarning)\n",
      "[Parallel(n_jobs=1)]: Using backend SequentialBackend with 1 concurrent workers.\n",
      "[Parallel(n_jobs=1)]: Done  10 out of  10 | elapsed:    2.1s finished\n"
     ]
    },
    {
     "name": "stdout",
     "output_type": "stream",
     "text": [
      "0.7773063973063973\n"
     ]
    },
    {
     "name": "stderr",
     "output_type": "stream",
     "text": [
      "/anaconda3/lib/python3.7/site-packages/sklearn/pipeline.py:331: DataConversionWarning: Data with input dtype int64, float64 were all converted to float64 by StandardScaler.\n",
      "  Xt = transform.transform(Xt)\n",
      "[Parallel(n_jobs=1)]: Using backend SequentialBackend with 1 concurrent workers.\n",
      "[Parallel(n_jobs=1)]: Done  10 out of  10 | elapsed:    0.1s finished\n"
     ]
    }
   ],
   "source": [
    "#Create pipeline\n",
    "pipeline = make_pipeline(\n",
    "    ce.OneHotEncoder(use_cat_names=True),\n",
    "    StandardScaler(),\n",
    "    RandomForestClassifier(verbose=True)    \n",
    ")\n",
    "\n",
    "#Create model and test on validation set\n",
    "pipeline.fit(X_train, y_train)\n",
    "\n",
    "y_pred = pipeline.predict(X_valid)\n",
    "\n",
    "print(accuracy_score(y_valid, y_pred))"
   ]
  },
  {
   "cell_type": "code",
   "execution_count": 213,
   "metadata": {},
   "outputs": [],
   "source": [
    "import h2o\n",
    "from h2o.estimators import H2ORandomForestEstimator"
   ]
  },
  {
   "cell_type": "code",
   "execution_count": 214,
   "metadata": {},
   "outputs": [
    {
     "name": "stdout",
     "output_type": "stream",
     "text": [
      "Checking whether there is an H2O instance running at http://localhost:54321..... not found.\n",
      "Attempting to start a local H2O server...\n",
      "  Java Version: java version \"1.8.0_202\"; Java(TM) SE Runtime Environment (build 1.8.0_202-b08); Java HotSpot(TM) 64-Bit Server VM (build 25.202-b08, mixed mode)\n",
      "  Starting server from /anaconda3/lib/python3.7/site-packages/h2o/backend/bin/h2o.jar\n",
      "  Ice root: /var/folders/ht/whbj74ys4mng7gx5l6_3s6c00000gn/T/tmprztvpoae\n",
      "  JVM stdout: /var/folders/ht/whbj74ys4mng7gx5l6_3s6c00000gn/T/tmprztvpoae/h2o_peytonrunyan_started_from_python.out\n",
      "  JVM stderr: /var/folders/ht/whbj74ys4mng7gx5l6_3s6c00000gn/T/tmprztvpoae/h2o_peytonrunyan_started_from_python.err\n",
      "  Server is running at http://127.0.0.1:54321\n",
      "Connecting to H2O server at http://127.0.0.1:54321... successful.\n"
     ]
    },
    {
     "data": {
      "text/html": [
       "<div style=\"overflow:auto\"><table style=\"width:50%\"><tr><td>H2O cluster uptime:</td>\n",
       "<td>02 secs</td></tr>\n",
       "<tr><td>H2O cluster timezone:</td>\n",
       "<td>America/Chicago</td></tr>\n",
       "<tr><td>H2O data parsing timezone:</td>\n",
       "<td>UTC</td></tr>\n",
       "<tr><td>H2O cluster version:</td>\n",
       "<td>3.22.1.3</td></tr>\n",
       "<tr><td>H2O cluster version age:</td>\n",
       "<td>13 days </td></tr>\n",
       "<tr><td>H2O cluster name:</td>\n",
       "<td>H2O_from_python_peytonrunyan_duv1gb</td></tr>\n",
       "<tr><td>H2O cluster total nodes:</td>\n",
       "<td>1</td></tr>\n",
       "<tr><td>H2O cluster free memory:</td>\n",
       "<td>1.778 Gb</td></tr>\n",
       "<tr><td>H2O cluster total cores:</td>\n",
       "<td>4</td></tr>\n",
       "<tr><td>H2O cluster allowed cores:</td>\n",
       "<td>4</td></tr>\n",
       "<tr><td>H2O cluster status:</td>\n",
       "<td>accepting new members, healthy</td></tr>\n",
       "<tr><td>H2O connection url:</td>\n",
       "<td>http://127.0.0.1:54321</td></tr>\n",
       "<tr><td>H2O connection proxy:</td>\n",
       "<td>None</td></tr>\n",
       "<tr><td>H2O internal security:</td>\n",
       "<td>False</td></tr>\n",
       "<tr><td>H2O API Extensions:</td>\n",
       "<td>XGBoost, Algos, AutoML, Core V3, Core V4</td></tr>\n",
       "<tr><td>Python version:</td>\n",
       "<td>3.7.1 final</td></tr></table></div>"
      ],
      "text/plain": [
       "--------------------------  ----------------------------------------\n",
       "H2O cluster uptime:         02 secs\n",
       "H2O cluster timezone:       America/Chicago\n",
       "H2O data parsing timezone:  UTC\n",
       "H2O cluster version:        3.22.1.3\n",
       "H2O cluster version age:    13 days\n",
       "H2O cluster name:           H2O_from_python_peytonrunyan_duv1gb\n",
       "H2O cluster total nodes:    1\n",
       "H2O cluster free memory:    1.778 Gb\n",
       "H2O cluster total cores:    4\n",
       "H2O cluster allowed cores:  4\n",
       "H2O cluster status:         accepting new members, healthy\n",
       "H2O connection url:         http://127.0.0.1:54321\n",
       "H2O connection proxy:\n",
       "H2O internal security:      False\n",
       "H2O API Extensions:         XGBoost, Algos, AutoML, Core V3, Core V4\n",
       "Python version:             3.7.1 final\n",
       "--------------------------  ----------------------------------------"
      ]
     },
     "metadata": {},
     "output_type": "display_data"
    }
   ],
   "source": [
    "h2o.init()"
   ]
  },
  {
   "cell_type": "code",
   "execution_count": 241,
   "metadata": {},
   "outputs": [],
   "source": [
    "from sklearn.preprocessing import LabelEncoder\n",
    "encoder = LabelEncoder()\n",
    "\n",
    "y_encoded = encoder.fit_transform(y)\n",
    "X_train, X_valid, y_train, y_valid = train_test_split(X_clean.iloc[:,1:],y_encoded)"
   ]
  },
  {
   "cell_type": "code",
   "execution_count": 242,
   "metadata": {},
   "outputs": [],
   "source": [
    "y_encoded = pd.DataFrame(y_encoded, columns=['target'])"
   ]
  },
  {
   "cell_type": "code",
   "execution_count": 243,
   "metadata": {},
   "outputs": [],
   "source": [
    "Data = pd.concat([X_clean,y_encoded], axis=1)"
   ]
  },
  {
   "cell_type": "code",
   "execution_count": 244,
   "metadata": {},
   "outputs": [
    {
     "name": "stdout",
     "output_type": "stream",
     "text": [
      "Index(['id', 'waterpoint_type_group', 'waterpoint_type', 'source_class',\n",
      "       'source_type', 'source', 'quantity', 'quality_group', 'water_quality',\n",
      "       'payment_type', 'management_group', 'management',\n",
      "       'extraction_type_class', 'extraction_type_group', 'extraction_type',\n",
      "       'construction_year', 'permit', 'scheme_management', 'public_meeting',\n",
      "       'population', 'lga', 'district_code', 'region_code', 'region', 'basin',\n",
      "       'num_private', 'date_recorded', 'amount_tsh', 'target'],\n",
      "      dtype='object')\n"
     ]
    }
   ],
   "source": [
    "print(Data.columns)"
   ]
  },
  {
   "cell_type": "code",
   "execution_count": 245,
   "metadata": {},
   "outputs": [
    {
     "data": {
      "text/html": [
       "<div>\n",
       "<style scoped>\n",
       "    .dataframe tbody tr th:only-of-type {\n",
       "        vertical-align: middle;\n",
       "    }\n",
       "\n",
       "    .dataframe tbody tr th {\n",
       "        vertical-align: top;\n",
       "    }\n",
       "\n",
       "    .dataframe thead th {\n",
       "        text-align: right;\n",
       "    }\n",
       "</style>\n",
       "<table border=\"1\" class=\"dataframe\">\n",
       "  <thead>\n",
       "    <tr style=\"text-align: right;\">\n",
       "      <th></th>\n",
       "      <th>id</th>\n",
       "      <th>waterpoint_type_group</th>\n",
       "      <th>waterpoint_type</th>\n",
       "      <th>source_class</th>\n",
       "      <th>source_type</th>\n",
       "      <th>source</th>\n",
       "      <th>quantity</th>\n",
       "      <th>quality_group</th>\n",
       "      <th>water_quality</th>\n",
       "      <th>payment_type</th>\n",
       "      <th>management_group</th>\n",
       "      <th>management</th>\n",
       "      <th>extraction_type_class</th>\n",
       "      <th>extraction_type_group</th>\n",
       "      <th>extraction_type</th>\n",
       "      <th>construction_year</th>\n",
       "      <th>permit</th>\n",
       "      <th>scheme_management</th>\n",
       "      <th>public_meeting</th>\n",
       "      <th>population</th>\n",
       "      <th>lga</th>\n",
       "      <th>district_code</th>\n",
       "      <th>region_code</th>\n",
       "      <th>region</th>\n",
       "      <th>basin</th>\n",
       "      <th>num_private</th>\n",
       "      <th>date_recorded</th>\n",
       "      <th>amount_tsh</th>\n",
       "      <th>target</th>\n",
       "    </tr>\n",
       "  </thead>\n",
       "  <tbody>\n",
       "    <tr>\n",
       "      <th>0</th>\n",
       "      <td>69572</td>\n",
       "      <td>communal standpipe</td>\n",
       "      <td>communal standpipe</td>\n",
       "      <td>groundwater</td>\n",
       "      <td>spring</td>\n",
       "      <td>spring</td>\n",
       "      <td>enough</td>\n",
       "      <td>good</td>\n",
       "      <td>soft</td>\n",
       "      <td>annually</td>\n",
       "      <td>user-group</td>\n",
       "      <td>vwc</td>\n",
       "      <td>gravity</td>\n",
       "      <td>gravity</td>\n",
       "      <td>gravity</td>\n",
       "      <td>1999</td>\n",
       "      <td>False</td>\n",
       "      <td>VWC</td>\n",
       "      <td>True</td>\n",
       "      <td>109</td>\n",
       "      <td>Ludewa</td>\n",
       "      <td>5</td>\n",
       "      <td>11</td>\n",
       "      <td>Iringa</td>\n",
       "      <td>Lake Nyasa</td>\n",
       "      <td>0</td>\n",
       "      <td>47</td>\n",
       "      <td>6000.0</td>\n",
       "      <td>0</td>\n",
       "    </tr>\n",
       "    <tr>\n",
       "      <th>1</th>\n",
       "      <td>8776</td>\n",
       "      <td>communal standpipe</td>\n",
       "      <td>communal standpipe</td>\n",
       "      <td>surface</td>\n",
       "      <td>rainwater harvesting</td>\n",
       "      <td>rainwater harvesting</td>\n",
       "      <td>insufficient</td>\n",
       "      <td>good</td>\n",
       "      <td>soft</td>\n",
       "      <td>never pay</td>\n",
       "      <td>user-group</td>\n",
       "      <td>wug</td>\n",
       "      <td>gravity</td>\n",
       "      <td>gravity</td>\n",
       "      <td>gravity</td>\n",
       "      <td>2010</td>\n",
       "      <td>True</td>\n",
       "      <td>Other</td>\n",
       "      <td>unknown</td>\n",
       "      <td>280</td>\n",
       "      <td>Serengeti</td>\n",
       "      <td>2</td>\n",
       "      <td>20</td>\n",
       "      <td>Mara</td>\n",
       "      <td>Lake Victoria</td>\n",
       "      <td>0</td>\n",
       "      <td>309</td>\n",
       "      <td>0.0</td>\n",
       "      <td>0</td>\n",
       "    </tr>\n",
       "    <tr>\n",
       "      <th>2</th>\n",
       "      <td>34310</td>\n",
       "      <td>communal standpipe</td>\n",
       "      <td>communal standpipe multiple</td>\n",
       "      <td>surface</td>\n",
       "      <td>dam</td>\n",
       "      <td>dam</td>\n",
       "      <td>enough</td>\n",
       "      <td>good</td>\n",
       "      <td>soft</td>\n",
       "      <td>per bucket</td>\n",
       "      <td>user-group</td>\n",
       "      <td>vwc</td>\n",
       "      <td>gravity</td>\n",
       "      <td>gravity</td>\n",
       "      <td>gravity</td>\n",
       "      <td>2009</td>\n",
       "      <td>True</td>\n",
       "      <td>VWC</td>\n",
       "      <td>True</td>\n",
       "      <td>250</td>\n",
       "      <td>Simanjiro</td>\n",
       "      <td>4</td>\n",
       "      <td>21</td>\n",
       "      <td>Manyara</td>\n",
       "      <td>Pangani</td>\n",
       "      <td>0</td>\n",
       "      <td>300</td>\n",
       "      <td>25.0</td>\n",
       "      <td>0</td>\n",
       "    </tr>\n",
       "    <tr>\n",
       "      <th>3</th>\n",
       "      <td>67743</td>\n",
       "      <td>communal standpipe</td>\n",
       "      <td>communal standpipe multiple</td>\n",
       "      <td>groundwater</td>\n",
       "      <td>borehole</td>\n",
       "      <td>machine dbh</td>\n",
       "      <td>dry</td>\n",
       "      <td>good</td>\n",
       "      <td>soft</td>\n",
       "      <td>never pay</td>\n",
       "      <td>user-group</td>\n",
       "      <td>vwc</td>\n",
       "      <td>submersible</td>\n",
       "      <td>submersible</td>\n",
       "      <td>submersible</td>\n",
       "      <td>1986</td>\n",
       "      <td>True</td>\n",
       "      <td>VWC</td>\n",
       "      <td>True</td>\n",
       "      <td>58</td>\n",
       "      <td>Nanyumbu</td>\n",
       "      <td>63</td>\n",
       "      <td>90</td>\n",
       "      <td>Mtwara</td>\n",
       "      <td>Ruvuma / Southern Coast</td>\n",
       "      <td>0</td>\n",
       "      <td>272</td>\n",
       "      <td>0.0</td>\n",
       "      <td>2</td>\n",
       "    </tr>\n",
       "    <tr>\n",
       "      <th>4</th>\n",
       "      <td>19728</td>\n",
       "      <td>communal standpipe</td>\n",
       "      <td>communal standpipe</td>\n",
       "      <td>surface</td>\n",
       "      <td>rainwater harvesting</td>\n",
       "      <td>rainwater harvesting</td>\n",
       "      <td>seasonal</td>\n",
       "      <td>good</td>\n",
       "      <td>soft</td>\n",
       "      <td>never pay</td>\n",
       "      <td>other</td>\n",
       "      <td>other</td>\n",
       "      <td>gravity</td>\n",
       "      <td>gravity</td>\n",
       "      <td>gravity</td>\n",
       "      <td>0</td>\n",
       "      <td>True</td>\n",
       "      <td>unknown</td>\n",
       "      <td>True</td>\n",
       "      <td>0</td>\n",
       "      <td>Karagwe</td>\n",
       "      <td>1</td>\n",
       "      <td>18</td>\n",
       "      <td>Kagera</td>\n",
       "      <td>Lake Victoria</td>\n",
       "      <td>0</td>\n",
       "      <td>104</td>\n",
       "      <td>0.0</td>\n",
       "      <td>0</td>\n",
       "    </tr>\n",
       "  </tbody>\n",
       "</table>\n",
       "</div>"
      ],
      "text/plain": [
       "      id waterpoint_type_group              waterpoint_type source_class  \\\n",
       "0  69572    communal standpipe           communal standpipe  groundwater   \n",
       "1   8776    communal standpipe           communal standpipe      surface   \n",
       "2  34310    communal standpipe  communal standpipe multiple      surface   \n",
       "3  67743    communal standpipe  communal standpipe multiple  groundwater   \n",
       "4  19728    communal standpipe           communal standpipe      surface   \n",
       "\n",
       "            source_type                source      quantity quality_group  \\\n",
       "0                spring                spring        enough          good   \n",
       "1  rainwater harvesting  rainwater harvesting  insufficient          good   \n",
       "2                   dam                   dam        enough          good   \n",
       "3              borehole           machine dbh           dry          good   \n",
       "4  rainwater harvesting  rainwater harvesting      seasonal          good   \n",
       "\n",
       "  water_quality payment_type management_group management  \\\n",
       "0          soft     annually       user-group        vwc   \n",
       "1          soft    never pay       user-group        wug   \n",
       "2          soft   per bucket       user-group        vwc   \n",
       "3          soft    never pay       user-group        vwc   \n",
       "4          soft    never pay            other      other   \n",
       "\n",
       "  extraction_type_class extraction_type_group extraction_type  \\\n",
       "0               gravity               gravity         gravity   \n",
       "1               gravity               gravity         gravity   \n",
       "2               gravity               gravity         gravity   \n",
       "3           submersible           submersible     submersible   \n",
       "4               gravity               gravity         gravity   \n",
       "\n",
       "   construction_year permit scheme_management public_meeting  population  \\\n",
       "0               1999  False               VWC           True         109   \n",
       "1               2010   True             Other        unknown         280   \n",
       "2               2009   True               VWC           True         250   \n",
       "3               1986   True               VWC           True          58   \n",
       "4                  0   True           unknown           True           0   \n",
       "\n",
       "         lga  district_code  region_code   region                    basin  \\\n",
       "0     Ludewa              5           11   Iringa               Lake Nyasa   \n",
       "1  Serengeti              2           20     Mara            Lake Victoria   \n",
       "2  Simanjiro              4           21  Manyara                  Pangani   \n",
       "3   Nanyumbu             63           90   Mtwara  Ruvuma / Southern Coast   \n",
       "4    Karagwe              1           18   Kagera            Lake Victoria   \n",
       "\n",
       "   num_private  date_recorded  amount_tsh  target  \n",
       "0            0             47      6000.0       0  \n",
       "1            0            309         0.0       0  \n",
       "2            0            300        25.0       0  \n",
       "3            0            272         0.0       2  \n",
       "4            0            104         0.0       0  "
      ]
     },
     "execution_count": 245,
     "metadata": {},
     "output_type": "execute_result"
    }
   ],
   "source": [
    "Data.head()"
   ]
  },
  {
   "cell_type": "code",
   "execution_count": 246,
   "metadata": {},
   "outputs": [
    {
     "name": "stdout",
     "output_type": "stream",
     "text": [
      "Parse progress: |█████████████████████████████████████████████████████████| 100%\n"
     ]
    }
   ],
   "source": [
    "hf = h2o.H2OFrame(Data)"
   ]
  },
  {
   "cell_type": "code",
   "execution_count": 253,
   "metadata": {},
   "outputs": [],
   "source": [
    "column_names = Data.columns.to_list()\n",
    "X_cols = column_names[:-1]\n",
    "y_col = column_names[-1]"
   ]
  },
  {
   "cell_type": "code",
   "execution_count": 257,
   "metadata": {},
   "outputs": [],
   "source": [
    "# Split data into train and testing\n",
    "train, test = hf.split_frame(ratios=[0.8])"
   ]
  },
  {
   "cell_type": "code",
   "execution_count": 258,
   "metadata": {},
   "outputs": [
    {
     "name": "stdout",
     "output_type": "stream",
     "text": [
      "drf Model Build progress: |███████████████████████████████████████████████| 100%\n"
     ]
    }
   ],
   "source": [
    "# Define model\n",
    "model = H2ORandomForestEstimator(ntrees=50, max_depth=20, nfolds=10)\n",
    "\n",
    "# train model\n",
    "model.train(x=X_cols, y=y_col, training_frame=train)"
   ]
  },
  {
   "cell_type": "code",
   "execution_count": 260,
   "metadata": {},
   "outputs": [
    {
     "name": "stdout",
     "output_type": "stream",
     "text": [
      "\n",
      "ModelMetricsRegression: drf\n",
      "** Reported on test data. **\n",
      "\n",
      "MSE: 0.41552416443748214\n",
      "RMSE: 0.6446116384595318\n",
      "MAE: 0.4452197552870305\n",
      "RMSLE: 0.37089217793717333\n",
      "Mean Residual Deviance: 0.41552416443748214\n",
      "\n"
     ]
    }
   ],
   "source": [
    "# Model performance\n",
    "performance = model.model_performance(test_data=test)\n",
    "print(performance)"
   ]
  },
  {
   "cell_type": "code",
   "execution_count": 111,
   "metadata": {},
   "outputs": [
    {
     "name": "stderr",
     "output_type": "stream",
     "text": [
      "/anaconda3/lib/python3.7/site-packages/sklearn/pipeline.py:331: DataConversionWarning: Data with input dtype int64, float64 were all converted to float64 by StandardScaler.\n",
      "  Xt = transform.transform(Xt)\n",
      "[Parallel(n_jobs=1)]: Using backend SequentialBackend with 1 concurrent workers.\n",
      "[Parallel(n_jobs=1)]: Done  10 out of  10 | elapsed:    0.1s finished\n"
     ]
    }
   ],
   "source": [
    "#Try on Test data\n",
    "X_test = pd.read_csv('test_features.csv')\n",
    "X_test = clean_data(X_test)[['id','waterpoint_type_group','waterpoint_type','source_class','source_type',\n",
    "                         'source','quantity','quality_group','water_quality','payment_type',\n",
    "                        'management_group','management','extraction_type_class','extraction_type_group',\n",
    "                        'extraction_type','construction_year','permit','scheme_management','public_meeting',\n",
    "                        'population','lga','region','basin','num_private','date_recorded','amount_tsh']]\n",
    "\n",
    "\n",
    "\n",
    "from sklearn.preprocessing import LabelEncoder\n",
    "encoder = LabelEncoder()\n",
    "\n",
    "X_test['date_recorded']= encoder.fit_transform(X_test['date_recorded'])\n",
    "\n",
    "\n",
    "y_test_pred = pipeline.predict(X_test.iloc[:,1:])"
   ]
  },
  {
   "cell_type": "code",
   "execution_count": 112,
   "metadata": {},
   "outputs": [],
   "source": [
    "###### Prep for submission\n",
    "y_submit = pd.DataFrame(y_test_pred)\n",
    "y_submit['id'] = X_test['id']\n",
    "y_submit.columns = ['status_group','id']\n",
    "y_submit = y_submit[['id','status_group']]"
   ]
  },
  {
   "cell_type": "markdown",
   "metadata": {},
   "source": [
    "### Export baseline for submission\n",
    "---\n",
    "---"
   ]
  },
  {
   "cell_type": "code",
   "execution_count": 114,
   "metadata": {},
   "outputs": [],
   "source": [
    "#Export for submission\n",
    "y_submit.to_csv(r'submission4.csv',index = False)"
   ]
  },
  {
   "cell_type": "markdown",
   "metadata": {},
   "source": [
    "---\n",
    "---"
   ]
  },
  {
   "cell_type": "markdown",
   "metadata": {},
   "source": [
    "# Let's Test Some Automated Feature Engineering Now"
   ]
  },
  {
   "cell_type": "code",
   "execution_count": 116,
   "metadata": {},
   "outputs": [],
   "source": [
    "#create playground dataframe\n",
    "new_X = clean_data(X)[['id','waterpoint_type_group','waterpoint_type','source_class','source_type',\n",
    "                         'source','quantity','quality_group','water_quality','payment_type',\n",
    "                        'management_group','management','extraction_type_class','extraction_type_group',\n",
    "                        'extraction_type','construction_year','permit','scheme_management','public_meeting',\n",
    "                        'population','lga','region','basin','num_private','date_recorded','amount_tsh']]\n",
    "new_X = new_X.copy()"
   ]
  },
  {
   "cell_type": "code",
   "execution_count": 117,
   "metadata": {},
   "outputs": [],
   "source": [
    "#let's get started\n",
    "import featuretools as ft"
   ]
  },
  {
   "cell_type": "code",
   "execution_count": 118,
   "metadata": {},
   "outputs": [],
   "source": [
    "es = ft.EntitySet('Entity Set')"
   ]
  },
  {
   "cell_type": "code",
   "execution_count": 119,
   "metadata": {},
   "outputs": [
    {
     "data": {
      "text/plain": [
       "Entityset: Entity Set\n",
       "  Entities:\n",
       "    entity_1 [Rows: 59400, Columns: 26]\n",
       "  Relationships:\n",
       "    No relationships"
      ]
     },
     "execution_count": 119,
     "metadata": {},
     "output_type": "execute_result"
    }
   ],
   "source": [
    "es.entity_from_dataframe(dataframe=new_X,\n",
    "                        entity_id='entity_1',\n",
    "                        index='id')"
   ]
  },
  {
   "cell_type": "code",
   "execution_count": 120,
   "metadata": {},
   "outputs": [],
   "source": [
    "from featuretools.primitives import make_trans_primitive\n",
    "from featuretools.variable_types import Numeric\n",
    "\n",
    "# Create two new functions for our two new primitives\n",
    "\n",
    "def Log(column):\n",
    "    return np.log(column)\n",
    "\n",
    "def Square_Root(column):\n",
    "    return np.sqrt(column)\n",
    "\n",
    "# Create the primitives\n",
    "log_prim = make_trans_primitive(\n",
    "    function=Log, input_types=[Numeric], return_type=Numeric)\n",
    "\n",
    "square_root_prim = make_trans_primitive(\n",
    "    function=Square_Root, input_types=[Numeric], return_type=Numeric)"
   ]
  },
  {
   "cell_type": "code",
   "execution_count": 127,
   "metadata": {},
   "outputs": [],
   "source": [
    "trans_primitives=[\n",
    "        'percentile', 'isin', 'cum_mean', 'subtract', 'divide'\n",
    "]\n",
    "\n",
    "trans_primitives.append(log_prim)\n",
    "trans_primitives.append(square_root_prim)"
   ]
  },
  {
   "cell_type": "code",
   "execution_count": 128,
   "metadata": {},
   "outputs": [],
   "source": [
    "agg_primitives=[\n",
    "        'std', 'min', 'max', 'mean'\n",
    "]"
   ]
  },
  {
   "cell_type": "code",
   "execution_count": 129,
   "metadata": {},
   "outputs": [
    {
     "name": "stdout",
     "output_type": "stream",
     "text": [
      "Built 562 features\n",
      "Elapsed: 00:09 | Remaining: 00:00 | Progress: 100%|██████████| Calculated: 10/10 chunks\n"
     ]
    }
   ],
   "source": [
    "fm, features = ft.dfs(entityset=es,\n",
    "                     target_entity='entity_1',\n",
    "                     trans_primitives=trans_primitives,\n",
    "                     agg_primitives=agg_primitives,\n",
    "                     verbose=True) "
   ]
  },
  {
   "cell_type": "code",
   "execution_count": 130,
   "metadata": {},
   "outputs": [],
   "source": [
    "fm = fm.replace([np.inf, -np.inf], np.nan)\n",
    "fm = fm.dropna(axis=1)"
   ]
  },
  {
   "cell_type": "code",
   "execution_count": 149,
   "metadata": {},
   "outputs": [
    {
     "data": {
      "text/plain": [
       "20"
      ]
     },
     "execution_count": 149,
     "metadata": {},
     "output_type": "execute_result"
    }
   ],
   "source": [
    "len(fm.select_dtypes(include='object', exclude='bool').columns)"
   ]
  },
  {
   "cell_type": "code",
   "execution_count": 151,
   "metadata": {},
   "outputs": [
    {
     "data": {
      "text/plain": [
       "152"
      ]
     },
     "execution_count": 151,
     "metadata": {},
     "output_type": "execute_result"
    }
   ],
   "source": [
    "len(fm.select_dtypes(include='number', exclude='bool').columns)"
   ]
  },
  {
   "cell_type": "code",
   "execution_count": null,
   "metadata": {},
   "outputs": [],
   "source": [
    "#construction dictionary of data types\n",
    "f = ft.variable_types\n",
    "\n",
    "var_types = {'amount_tsh':ft.variable_types.Numeric, 'num_private':f.Numeric, 'basin':f.Categorical, 'region':f.Categorical,\n",
    "'district_code':f.Categorical, 'lga':f.Categorical, 'population':f.Numeric, 'public_meeting':f.Categorical, \n",
    "'scheme_management':f.Categorical, 'permit':f.Categorical, 'construction_year':f.Datetime, 'extraction_type':f.Categorical,\n",
    "'extraction_type_group':f.Categorical, 'extraction_type_class':f.Categorical,'management':f.Categorical, \n",
    "'management_group':f.Categorical, 'payment_type':f.Categorical, 'water_quality':f.Categorical, 'quality_group':f.Categorical,\n",
    "'quantity':f.Categorical, 'source':f.Categorical, 'source_type': f.Categorical, 'source_class':f.Categorical, \n",
    "'waterpoint_type':f.Categorical, 'waterpoint_type_group':f.Categorical, 'age':f.Numeric, 'lat_lng':f.LatLong, 'age_since_built':f.Datetime\n",
    "}"
   ]
  },
  {
   "cell_type": "markdown",
   "metadata": {},
   "source": [
    "### Dimension reduction (categorical and numeric)"
   ]
  },
  {
   "cell_type": "code",
   "execution_count": 150,
   "metadata": {},
   "outputs": [],
   "source": [
    "import prince\n",
    "mca = prince.MCA(\n",
    "    n_components=15,\n",
    "    n_iter=3,\n",
    "    copy=True,\n",
    "    check_input=True,\n",
    "    engine='auto',\n",
    "    random_state=42\n",
    ")\n",
    "mca = mca.fit(fm.select_dtypes(include='object', exclude='bool').astype(str))"
   ]
  },
  {
   "cell_type": "code",
   "execution_count": 154,
   "metadata": {},
   "outputs": [],
   "source": [
    "pca = prince.PCA(\n",
    "    n_components=50,\n",
    "    n_iter=3,\n",
    "    copy=True,\n",
    "    check_input=True,\n",
    "    engine='auto',\n",
    "    random_state=42\n",
    ")\n",
    "pca = pca.fit(fm.select_dtypes(include='number', exclude='bool').astype(np.int64))"
   ]
  },
  {
   "cell_type": "code",
   "execution_count": 190,
   "metadata": {},
   "outputs": [
    {
     "name": "stderr",
     "output_type": "stream",
     "text": [
      "/anaconda3/lib/python3.7/site-packages/sklearn/utils/validation.py:595: DataConversionWarning: Data with input dtype int64 was converted to float64 by StandardScaler.\n",
      "  warnings.warn(msg, DataConversionWarning)\n"
     ]
    }
   ],
   "source": [
    "X_cats = mca.transform(fm.select_dtypes(include='object', exclude='bool').astype(str))\n",
    "X_nums = pca.transform(fm.select_dtypes(include='number', exclude='bool').astype(np.int64))\n",
    "\n",
    "X_nums = X_nums.reset_index(drop=True)\n",
    "X_cats = X_cats.reset_index(drop=True)\n",
    "X_data = pd.concat([X_nums,X_cats], axis=1)\n",
    "\n",
    "X_train, X_valid, y_train, y_valid = train_test_split(X_data, y)"
   ]
  },
  {
   "cell_type": "code",
   "execution_count": 191,
   "metadata": {},
   "outputs": [
    {
     "name": "stderr",
     "output_type": "stream",
     "text": [
      "/anaconda3/lib/python3.7/site-packages/sklearn/ensemble/forest.py:246: FutureWarning: The default value of n_estimators will change from 10 in version 0.20 to 100 in 0.22.\n",
      "  \"10 in version 0.20 to 100 in 0.22.\", FutureWarning)\n",
      "[Parallel(n_jobs=1)]: Using backend SequentialBackend with 1 concurrent workers.\n"
     ]
    },
    {
     "name": "stdout",
     "output_type": "stream",
     "text": [
      "0.48505050505050507\n"
     ]
    },
    {
     "name": "stderr",
     "output_type": "stream",
     "text": [
      "[Parallel(n_jobs=1)]: Done  10 out of  10 | elapsed:    4.1s finished\n",
      "[Parallel(n_jobs=1)]: Using backend SequentialBackend with 1 concurrent workers.\n",
      "[Parallel(n_jobs=1)]: Done  10 out of  10 | elapsed:    0.1s finished\n"
     ]
    }
   ],
   "source": [
    "#Create pipeline\n",
    "pipeline = make_pipeline(\n",
    "    ce.OneHotEncoder(use_cat_names=True),\n",
    "    StandardScaler(),\n",
    "    RandomForestClassifier(verbose=True)    \n",
    ")\n",
    "\n",
    "#Create model and test on validation set\n",
    "pipeline.fit(X_train, y_train)\n",
    "\n",
    "y_pred = pipeline.predict(X_valid)\n",
    "\n",
    "print(accuracy_score(y_valid, y_pred))"
   ]
  },
  {
   "cell_type": "code",
   "execution_count": 300,
   "metadata": {},
   "outputs": [],
   "source": [
    "from sklearn.ensemble import RandomForestClassifier"
   ]
  },
  {
   "cell_type": "code",
   "execution_count": 134,
   "metadata": {},
   "outputs": [
    {
     "name": "stderr",
     "output_type": "stream",
     "text": [
      "/anaconda3/lib/python3.7/site-packages/sklearn/preprocessing/data.py:625: DataConversionWarning: Data with input dtype bool, int64, float64 were all converted to float64 by StandardScaler.\n",
      "  return self.partial_fit(X, y)\n",
      "/anaconda3/lib/python3.7/site-packages/sklearn/base.py:465: DataConversionWarning: Data with input dtype bool, int64, float64 were all converted to float64 by StandardScaler.\n",
      "  return self.fit(X, y, **fit_params).transform(X)\n",
      "/anaconda3/lib/python3.7/site-packages/sklearn/linear_model/logistic.py:433: FutureWarning: Default solver will be changed to 'lbfgs' in 0.22. Specify a solver to silence this warning.\n",
      "  FutureWarning)\n",
      "/anaconda3/lib/python3.7/site-packages/sklearn/linear_model/logistic.py:460: FutureWarning: Default multi_class will be changed to 'auto' in 0.22. Specify the multi_class option to silence this warning.\n",
      "  \"this warning.\", FutureWarning)\n"
     ]
    },
    {
     "name": "stdout",
     "output_type": "stream",
     "text": [
      "0.5388552188552188\n"
     ]
    },
    {
     "name": "stderr",
     "output_type": "stream",
     "text": [
      "/anaconda3/lib/python3.7/site-packages/sklearn/pipeline.py:331: DataConversionWarning: Data with input dtype bool, int64, float64 were all converted to float64 by StandardScaler.\n",
      "  Xt = transform.transform(Xt)\n"
     ]
    }
   ],
   "source": [
    "#Create pipeline\n",
    "pipeline = make_pipeline(\n",
    "    ce.OneHotEncoder(use_cat_names=True),\n",
    "    StandardScaler(),\n",
    "    LogisticRegression()    \n",
    ")\n",
    "\n",
    "#Create model and test on validation set\n",
    "pipeline.fit(X_train, y_train)\n",
    "\n",
    "y_pred = pipeline.predict(X_valid)\n",
    "\n",
    "print(accuracy_score(y_valid, y_pred))"
   ]
  }
 ],
 "metadata": {
  "kernelspec": {
   "display_name": "Python 3",
   "language": "python",
   "name": "python3"
  },
  "language_info": {
   "codemirror_mode": {
    "name": "ipython",
    "version": 3
   },
   "file_extension": ".py",
   "mimetype": "text/x-python",
   "name": "python",
   "nbconvert_exporter": "python",
   "pygments_lexer": "ipython3",
   "version": "3.6.8"
  }
 },
 "nbformat": 4,
 "nbformat_minor": 2
}
